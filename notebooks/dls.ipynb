{
 "cells": [
  {
   "cell_type": "code",
   "execution_count": 76,
   "metadata": {},
   "outputs": [
    {
     "name": "stdout",
     "output_type": "stream",
     "text": [
      "The autoreload extension is already loaded. To reload it, use:\n",
      "  %reload_ext autoreload\n"
     ]
    }
   ],
   "source": [
    "import sys\n",
    "sys.path.append(\"../\") # go to parent dir\n",
    "\n",
    "from pprint import pprint\n",
    "from pathlib import Path\n",
    "import pyjson5\n",
    "\n",
    "from dcf.dls import make_particle_sizer\n",
    "from dcf.utils import relative_error, average_dict_val\n",
    "\n",
    "project_path = Path(\"..\").resolve()\n",
    "\n",
    "%load_ext autoreload\n",
    "%autoreload 2\n"
   ]
  },
  {
   "cell_type": "code",
   "execution_count": 77,
   "metadata": {},
   "outputs": [],
   "source": [
    "dls_data_path = project_path / \"data\" / \"DLS\" / \"dls_results.json5\"\n",
    "particle_data_path = project_path / \"data\" / \"particle_data.json5\"\n",
    "\n",
    "with open(dls_data_path) as f:\n",
    "    dls_data = pyjson5.load(f)\n",
    "\n",
    "with open(particle_data_path) as f:\n",
    "    particle_data = pyjson5.load(f)\n"
   ]
  },
  {
   "cell_type": "code",
   "execution_count": 78,
   "metadata": {},
   "outputs": [],
   "source": [
    "# Normalise data\n",
    "for exp_name, exp in dls_data.items():\n",
    "    exp |= particle_data.get(exp[\"particle\"], {})\n"
   ]
  },
  {
   "cell_type": "code",
   "execution_count": 79,
   "metadata": {},
   "outputs": [
    {
     "name": "stdout",
     "output_type": "stream",
     "text": [
      "{'2A25_01': {'concentration': 0.1,\n",
      "             'error': -0.5945715887619231,\n",
      "             'experimental_diameter': 8.554539477123423e-08,\n",
      "             'known_diameter': 2.11e-07,\n",
      "             'material_type': 'SiO2',\n",
      "             'particle': 'A',\n",
      "             'std_dev_diameter': 8e-09,\n",
      "             'tau': 0.0059559,\n",
      "             'theta': 25},\n",
      " '2A30_0001': {'concentration': 0.001,\n",
      "               'error': -0.014873498292861009,\n",
      "               'experimental_diameter': 2.0786169186020632e-07,\n",
      "               'known_diameter': 2.11e-07,\n",
      "               'material_type': 'SiO2',\n",
      "               'particle': 'A',\n",
      "               'std_dev_diameter': 8e-09,\n",
      "               'tau': 0.0101206,\n",
      "               'theta': 30},\n",
      " '2A30_001': {'concentration': 0.01,\n",
      "              'error': -0.17966799342063844,\n",
      "              'experimental_diameter': 1.7309005338824528e-07,\n",
      "              'known_diameter': 2.11e-07,\n",
      "              'material_type': 'SiO2',\n",
      "              'particle': 'A',\n",
      "              'std_dev_diameter': 8e-09,\n",
      "              'tau': 0.0084276,\n",
      "              'theta': 30},\n",
      " '2A30_005': {'concentration': 0.05,\n",
      "              'error': -0.11160874298157068,\n",
      "              'experimental_diameter': 1.8745055523088858e-07,\n",
      "              'known_diameter': 2.11e-07,\n",
      "              'material_type': 'SiO2',\n",
      "              'particle': 'A',\n",
      "              'std_dev_diameter': 8e-09,\n",
      "              'tau': 0.0091268,\n",
      "              'theta': 30},\n",
      " '2A30_01': {'concentration': 0.1,\n",
      "             'error': -0.3024413523720067,\n",
      "             'experimental_diameter': 1.4718487464950658e-07,\n",
      "             'known_diameter': 2.11e-07,\n",
      "             'material_type': 'SiO2',\n",
      "             'particle': 'A',\n",
      "             'std_dev_diameter': 8e-09,\n",
      "             'tau': 0.0071663,\n",
      "             'theta': 30},\n",
      " '2A30_05': {'concentration': 0.5,\n",
      "             'error': 0.2007512894254219,\n",
      "             'experimental_diameter': 2.53358522068764e-07,\n",
      "             'known_diameter': 2.11e-07,\n",
      "             'material_type': 'SiO2',\n",
      "             'particle': 'A',\n",
      "             'std_dev_diameter': 8e-09,\n",
      "             'tau': 0.0123358,\n",
      "             'theta': 30},\n",
      " '2A30_1': {'concentration': 1.0,\n",
      "            'error': 6.784101559227569,\n",
      "            'experimental_diameter': 1.642445428997017e-06,\n",
      "            'known_diameter': 2.11e-07,\n",
      "            'material_type': 'SiO2',\n",
      "            'particle': 'A',\n",
      "            'std_dev_diameter': 8e-09,\n",
      "            'tau': 0.0799692,\n",
      "            'theta': 30},\n",
      " '2A35_01': {'concentration': 0.1,\n",
      "             'error': -0.06064822329831993,\n",
      "             'experimental_diameter': 1.982032248840545e-07,\n",
      "             'known_diameter': 2.11e-07,\n",
      "             'material_type': 'SiO2',\n",
      "             'particle': 'A',\n",
      "             'std_dev_diameter': 8e-09,\n",
      "             'tau': 0.0071491,\n",
      "             'theta': 35},\n",
      " '2A45_01': {'concentration': 0.1,\n",
      "             'error': -0.15892738495336609,\n",
      "             'experimental_diameter': 1.7746632177483976e-07,\n",
      "             'known_diameter': 2.11e-07,\n",
      "             'material_type': 'SiO2',\n",
      "             'particle': 'A',\n",
      "             'std_dev_diameter': 8e-09,\n",
      "             'tau': 0.0039524,\n",
      "             'theta': 45},\n",
      " '2A55_01': {'concentration': 0.1,\n",
      "             'error': 0.35383594586968165,\n",
      "             'experimental_diameter': 2.856593845785028e-07,\n",
      "             'known_diameter': 2.11e-07,\n",
      "             'material_type': 'SiO2',\n",
      "             'particle': 'A',\n",
      "             'std_dev_diameter': 8e-09,\n",
      "             'tau': 0.0043698,\n",
      "             'theta': 55},\n",
      " '2B30_01': {'concentration': 0.1,\n",
      "             'error': -0.7181272877611937,\n",
      "             'experimental_diameter': 1.2966144762985086e-07,\n",
      "             'known_diameter': 4.6e-07,\n",
      "             'material_type': 'PS',\n",
      "             'particle': 'B',\n",
      "             'std_dev_diameter': None,\n",
      "             'tau': 0.0063131,\n",
      "             'theta': 30},\n",
      " '2C30_01': {'concentration': 0.1,\n",
      "             'error': -0.8587999656473877,\n",
      "             'experimental_diameter': 7.314161779465317e-08,\n",
      "             'known_diameter': 5.18e-07,\n",
      "             'material_type': 'SiO2',\n",
      "             'particle': 'C',\n",
      "             'std_dev_diameter': 1.5e-08,\n",
      "             'tau': 0.0035612,\n",
      "             'theta': 30},\n",
      " '2D30_01': {'concentration': 0.1,\n",
      "             'error': -0.02294037952662749,\n",
      "             'experimental_diameter': 9.545872492024849e-07,\n",
      "             'known_diameter': 9.77e-07,\n",
      "             'material_type': 'SiO2',\n",
      "             'particle': 'D',\n",
      "             'std_dev_diameter': 2.6e-08,\n",
      "             'tau': 0.046478,\n",
      "             'theta': 30},\n",
      " '2M25_0001': {'concentration': 0.001,\n",
      "               'experimental_diameter': 4.014496186732478e-07,\n",
      "               'particle': 'M',\n",
      "               'tau': 0.02795,\n",
      "               'theta': 25},\n",
      " '2M35_0001': {'concentration': 0.001,\n",
      "               'experimental_diameter': 4.3665647311184044e-07,\n",
      "               'particle': 'M',\n",
      "               'tau': 0.01575,\n",
      "               'theta': 35},\n",
      " '2M45_0001': {'concentration': 0.001,\n",
      "               'experimental_diameter': 6.402868506500391e-07,\n",
      "               'particle': 'M',\n",
      "               'tau': 0.01426,\n",
      "               'theta': 45},\n",
      " '2M55_0001': {'concentration': 0.001,\n",
      "               'experimental_diameter': 6.295253497851118e-07,\n",
      "               'particle': 'M',\n",
      "               'tau': 0.00963,\n",
      "               'theta': 55}}\n"
     ]
    }
   ],
   "source": [
    "# Calculate diameter\n",
    "viscosity = 0.9775e-3\n",
    "temperature = 273 + 21\n",
    "wavelength = 635.0e-9\n",
    "refractive_index = 1.333\n",
    "\n",
    "particle_sizer = make_particle_sizer(viscosity=viscosity, temperature=temperature, wavelength=wavelength, refractive_index=refractive_index)\n",
    "\n",
    "for exp_name, exp in dls_data.items():\n",
    "    exp[\"experimental_diameter\"] = particle_sizer(exp[\"tau\"], exp[\"theta\"])\n",
    "\n",
    "    if \"known_diameter\" in exp:\n",
    "        exp[\"error\"] = relative_error(exp[\"known_diameter\"], exp[\"experimental_diameter\"])\n",
    "\n",
    "pprint(dls_data)"
   ]
  },
  {
   "cell_type": "code",
   "execution_count": 80,
   "metadata": {},
   "outputs": [
    {
     "name": "stdout",
     "output_type": "stream",
     "text": [
      "Mystery average: 5.269795730550598e-07\n",
      "Mystery knownish: 5.18e-07\n",
      "Mystery error: 0.01733508311787615\n"
     ]
    }
   ],
   "source": [
    "# Mystery particle\n",
    "mystery_particles = {k: v for k, v in dls_data.items() if k.startswith(\"2M\")}\n",
    "mystery_average = average_dict_val(mystery_particles, \"experimental_diameter\")\n",
    "\n",
    "print(f\"Mystery average: {mystery_average}\")\n",
    "print(f\"Mystery knownish: {particle_data['C']['known_diameter']}\")\n",
    "print(f\"Mystery error: {relative_error(particle_data['C']['known_diameter'], mystery_average)}\")\n",
    "\n"
   ]
  },
  {
   "cell_type": "code",
   "execution_count": 81,
   "metadata": {},
   "outputs": [
    {
     "name": "stdout",
     "output_type": "stream",
     "text": [
      "A average: 1.7881184013162757e-07\n",
      "A known: 2.11e-07\n",
      "A error: -0.15255052070318684\n"
     ]
    }
   ],
   "source": [
    "# A with varying angles\n",
    "a_particles = {k: v for k, v in dls_data.items() if k.startswith(\"2A\") and k.endswith(\"_01\")}\n",
    "a_average = average_dict_val(a_particles, \"experimental_diameter\")\n",
    "\n",
    "a_error = relative_error(particle_data[\"A\"][\"known_diameter\"], a_average)\n",
    "\n",
    "print(f\"A average: {a_average}\")\n",
    "print(f\"A known: {particle_data['A']['known_diameter']}\")\n",
    "print(f\"A error: {relative_error(particle_data['A']['known_diameter'], a_average)}\")"
   ]
  }
 ],
 "metadata": {
  "interpreter": {
   "hash": "3e52cfc3c2631e5df51be1fdaf608d7cde0f243eceb519bd34d5e23681680931"
  },
  "kernelspec": {
   "display_name": "Python 3.9.6 64-bit ('.venv': poetry)",
   "language": "python",
   "name": "python3"
  },
  "language_info": {
   "codemirror_mode": {
    "name": "ipython",
    "version": 3
   },
   "file_extension": ".py",
   "mimetype": "text/x-python",
   "name": "python",
   "nbconvert_exporter": "python",
   "pygments_lexer": "ipython3",
   "version": "3.9.6"
  },
  "orig_nbformat": 4
 },
 "nbformat": 4,
 "nbformat_minor": 2
}
