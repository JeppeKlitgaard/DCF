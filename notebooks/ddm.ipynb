{
 "cells": [
  {
   "cell_type": "code",
   "execution_count": 35,
   "metadata": {},
   "outputs": [
    {
     "name": "stdout",
     "output_type": "stream",
     "text": [
      "The autoreload extension is already loaded. To reload it, use:\n",
      "  %reload_ext autoreload\n"
     ]
    }
   ],
   "source": [
    "import sys\n",
    "sys.path.append(\"../\") # go to parent dir\n",
    "\n",
    "from pprint import pprint\n",
    "from pathlib import Path\n",
    "import pyjson5\n",
    "from dcf.utils import relative_error, average_dict_val\n",
    "from dcf.ddm import make_diameter_calculator, make_diffusion_coefficient_calculator\n",
    "\n",
    "project_path = Path(\"..\").resolve()\n",
    "\n",
    "%load_ext autoreload\n",
    "%autoreload 2\n"
   ]
  },
  {
   "cell_type": "code",
   "execution_count": 36,
   "metadata": {},
   "outputs": [],
   "source": [
    "ddm_data_path = project_path / \"data\" / \"DDM\" / \"ddm_results.json5\"\n",
    "particle_data_path = project_path / \"data\" / \"particle_data.json5\"\n",
    "\n",
    "with open(ddm_data_path) as f:\n",
    "    ddm_data = pyjson5.load(f)\n",
    "\n",
    "with open(particle_data_path) as f:\n",
    "    particle_data = pyjson5.load(f)\n"
   ]
  },
  {
   "cell_type": "code",
   "execution_count": 37,
   "metadata": {},
   "outputs": [],
   "source": [
    "# Normalise data\n",
    "for exp_name, exp in ddm_data[\"experiments\"].items():\n",
    "    exp |= ddm_data[\"setups\"][exp[\"setup\"]]\n",
    "    exp |= particle_data.get(exp[\"particle\"], {})\n"
   ]
  },
  {
   "cell_type": "code",
   "execution_count": 38,
   "metadata": {},
   "outputs": [
    {
     "name": "stdout",
     "output_type": "stream",
     "text": [
      "{'experiments': {'1E01_1': {'concentration': 0.1,\n",
      "                            'error': 0.4848584905660377,\n",
      "                            'exp_diameter': 3.1479e-06,\n",
      "                            'exp_diameter2': 2.6816716240171538e-05,\n",
      "                            'exp_diffusion_coeff': 0.01643,\n",
      "                            'exp_diffusion_coeff_lower_95': 0.01698,\n",
      "                            'exp_diffusion_coeff_upper_95': 0.01589,\n",
      "                            'known_diameter': 2.12e-06,\n",
      "                            'material_type': 'SiO2',\n",
      "                            'objective': '20x',\n",
      "                            'particle': 'E',\n",
      "                            'pix2mum': 0.3008,\n",
      "                            'setup': '20x_1',\n",
      "                            'std_dev_diameter': 6e-08,\n",
      "                            'theoretical_diffusion_coeff': 0.2078295508613294},\n",
      "                 '1M001_1': {'concentration': 0.05,\n",
      "                             'exp_diameter': 3e-07,\n",
      "                             'exp_diameter2': 3.113771362728045e-06,\n",
      "                             'exp_diffusion_coeff': 0.1415,\n",
      "                             'exp_diffusion_coeff_lower_95': 0.1402,\n",
      "                             'exp_diffusion_coeff_upper_95': 0.1427,\n",
      "                             'objective': '20x',\n",
      "                             'particle': 'M',\n",
      "                             'pix2mum': 0.3008,\n",
      "                             'setup': '20x_1'},\n",
      "                 '1M005_1': {'concentration': 0.05,\n",
      "                             'exp_diameter': 4.388e-07,\n",
      "                             'exp_diameter2': 2.9295122860772498e-06,\n",
      "                             'exp_diffusion_coeff': 0.1504,\n",
      "                             'exp_diffusion_coeff_lower_95': 0.1484,\n",
      "                             'exp_diffusion_coeff_upper_95': 0.1524,\n",
      "                             'objective': '20x',\n",
      "                             'particle': 'M',\n",
      "                             'pix2mum': 0.3008,\n",
      "                             'setup': '20x_1'},\n",
      "                 '1M01_1': {'concentration': 0.1,\n",
      "                            'exp_diameter': 3.6392e-07,\n",
      "                            'exp_diameter2': 3.6413111390580034e-07,\n",
      "                            'exp_diffusion_coeff': 1.21,\n",
      "                            'objective': '20x',\n",
      "                            'particle': 'M',\n",
      "                            'pix2mum': 0.3008,\n",
      "                            'setup': '20x_1'}},\n",
      " 'setups': {'20x_1': {'objective': '20x', 'pix2mum': 0.3008}}}\n"
     ]
    }
   ],
   "source": [
    "# Compute data\n",
    "temperature = 273 + 21\n",
    "viscosity = 0.9775e-3\n",
    "\n",
    "diffusion_coefficient_calculator = make_diffusion_coefficient_calculator(viscosity=viscosity, temperature=temperature)\n",
    "diameter_calculator = make_diameter_calculator(viscosity=viscosity, temperature=temperature)\n",
    "\n",
    "for exp_name, exp in ddm_data[\"experiments\"].items():\n",
    "    exp[\"exp_diameter2\"] = diameter_calculator(exp[\"exp_diffusion_coeff\"])\n",
    "\n",
    "    if \"known_diameter\" in exp:\n",
    "        exp[\"theoretical_diffusion_coeff\"] = diffusion_coefficient_calculator(exp[\"known_diameter\"])\n",
    "        exp[\"error\"] = relative_error(exp[\"known_diameter\"], exp[\"exp_diameter\"])\n",
    "\n",
    "pprint(ddm_data)\n"
   ]
  }
 ],
 "metadata": {
  "interpreter": {
   "hash": "6a5168c01aef028afada725ea20cf04a1c34d265463c7b016845d9abfcf056ec"
  },
  "kernelspec": {
   "display_name": "Python 3.9.6 64-bit",
   "language": "python",
   "name": "python3"
  },
  "language_info": {
   "codemirror_mode": {
    "name": "ipython",
    "version": 3
   },
   "file_extension": ".py",
   "mimetype": "text/x-python",
   "name": "python",
   "nbconvert_exporter": "python",
   "pygments_lexer": "ipython3",
   "version": "3.9.6"
  },
  "orig_nbformat": 4
 },
 "nbformat": 4,
 "nbformat_minor": 2
}
