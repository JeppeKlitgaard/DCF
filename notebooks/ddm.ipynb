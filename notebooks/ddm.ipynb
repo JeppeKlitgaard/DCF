{
 "cells": [
  {
   "cell_type": "code",
   "execution_count": 62,
   "metadata": {},
   "outputs": [
    {
     "name": "stdout",
     "output_type": "stream",
     "text": [
      "The autoreload extension is already loaded. To reload it, use:\n",
      "  %reload_ext autoreload\n"
     ]
    }
   ],
   "source": [
    "import sys\n",
    "sys.path.append(\"../\") # go to parent dir\n",
    "\n",
    "from pprint import pprint\n",
    "from pathlib import Path\n",
    "import pyjson5\n",
    "from dcf.utils import relative_error, average_dict_val\n",
    "from dcf.ddm import make_diameter_calculator, make_diffusion_coefficient_calculator\n",
    "\n",
    "project_path = Path(\"..\").resolve()\n",
    "\n",
    "%load_ext autoreload\n",
    "%autoreload 2\n"
   ]
  },
  {
   "cell_type": "code",
   "execution_count": 63,
   "metadata": {},
   "outputs": [],
   "source": [
    "ddm_data_path = project_path / \"data\" / \"DDM\" / \"ddm_results.json5\"\n",
    "particle_data_path = project_path / \"data\" / \"particle_data.json5\"\n",
    "\n",
    "with open(ddm_data_path) as f:\n",
    "    ddm_data = pyjson5.load(f)\n",
    "\n",
    "with open(particle_data_path) as f:\n",
    "    particle_data = pyjson5.load(f)\n"
   ]
  },
  {
   "cell_type": "code",
   "execution_count": 64,
   "metadata": {},
   "outputs": [],
   "source": [
    "# Normalise data\n",
    "for exp_name, exp in ddm_data[\"experiments\"].items():\n",
    "    exp |= ddm_data[\"setups\"][exp[\"setup\"]]\n",
    "    exp |= particle_data.get(exp[\"particle\"], {})\n"
   ]
  },
  {
   "cell_type": "code",
   "execution_count": 66,
   "metadata": {},
   "outputs": [
    {
     "name": "stdout",
     "output_type": "stream",
     "text": [
      "{'particle': 'M', 'exp_diffusion_coeff': 1.21, 'exp_diameter': 3.6392e-07, 'concentration': 0.1, 'setup': '20x_1', 'objective': '20x', 'pix2mum': 0.3008, 'framerate': 100.0}\n"
     ]
    },
    {
     "ename": "KeyError",
     "evalue": "'px2mum'",
     "output_type": "error",
     "traceback": [
      "\u001b[1;31m---------------------------------------------------------------------------\u001b[0m",
      "\u001b[1;31mKeyError\u001b[0m                                  Traceback (most recent call last)",
      "\u001b[1;32m~\\AppData\\Local\\Temp/ipykernel_15800/3484095153.py\u001b[0m in \u001b[0;36m<module>\u001b[1;34m\u001b[0m\n\u001b[0;32m      7\u001b[0m \u001b[1;32mfor\u001b[0m \u001b[0mexp_name\u001b[0m\u001b[1;33m,\u001b[0m \u001b[0mexp\u001b[0m \u001b[1;32min\u001b[0m \u001b[0mddm_data\u001b[0m\u001b[1;33m[\u001b[0m\u001b[1;34m\"experiments\"\u001b[0m\u001b[1;33m]\u001b[0m\u001b[1;33m.\u001b[0m\u001b[0mitems\u001b[0m\u001b[1;33m(\u001b[0m\u001b[1;33m)\u001b[0m\u001b[1;33m:\u001b[0m\u001b[1;33m\u001b[0m\u001b[1;33m\u001b[0m\u001b[0m\n\u001b[0;32m      8\u001b[0m     \u001b[0mprint\u001b[0m\u001b[1;33m(\u001b[0m\u001b[0mexp\u001b[0m\u001b[1;33m)\u001b[0m\u001b[1;33m\u001b[0m\u001b[1;33m\u001b[0m\u001b[0m\n\u001b[1;32m----> 9\u001b[1;33m     \u001b[0mdiameter_calculator\u001b[0m \u001b[1;33m=\u001b[0m \u001b[0mmake_diameter_calculator\u001b[0m\u001b[1;33m(\u001b[0m\u001b[0mviscosity\u001b[0m\u001b[1;33m=\u001b[0m\u001b[0mviscosity\u001b[0m\u001b[1;33m,\u001b[0m \u001b[0mtemperature\u001b[0m\u001b[1;33m=\u001b[0m\u001b[0mtemperature\u001b[0m\u001b[1;33m,\u001b[0m \u001b[0mpx2mum\u001b[0m\u001b[1;33m=\u001b[0m\u001b[0mexp\u001b[0m\u001b[1;33m[\u001b[0m\u001b[1;34m\"px2mum\"\u001b[0m\u001b[1;33m]\u001b[0m\u001b[1;33m,\u001b[0m \u001b[0mframerate\u001b[0m\u001b[1;33m=\u001b[0m\u001b[0mexp\u001b[0m\u001b[1;33m[\u001b[0m\u001b[1;34m\"framerate\"\u001b[0m\u001b[1;33m]\u001b[0m\u001b[1;33m)\u001b[0m\u001b[1;33m\u001b[0m\u001b[1;33m\u001b[0m\u001b[0m\n\u001b[0m\u001b[0;32m     10\u001b[0m \u001b[1;33m\u001b[0m\u001b[0m\n\u001b[0;32m     11\u001b[0m     \u001b[0mexp\u001b[0m\u001b[1;33m[\u001b[0m\u001b[1;34m\"exp_diameter2\"\u001b[0m\u001b[1;33m]\u001b[0m \u001b[1;33m=\u001b[0m \u001b[0mdiameter_calculator\u001b[0m\u001b[1;33m(\u001b[0m\u001b[0mexp\u001b[0m\u001b[1;33m[\u001b[0m\u001b[1;34m\"exp_diffusion_coeff\"\u001b[0m\u001b[1;33m]\u001b[0m\u001b[1;33m)\u001b[0m\u001b[1;33m\u001b[0m\u001b[1;33m\u001b[0m\u001b[0m\n",
      "\u001b[1;31mKeyError\u001b[0m: 'px2mum'"
     ]
    }
   ],
   "source": [
    "# Compute data\n",
    "temperature = 273 + 21\n",
    "viscosity = 0.9775e-3\n",
    "\n",
    "diffusion_coefficient_calculator = make_diffusion_coefficient_calculator(viscosity=viscosity, temperature=temperature)\n",
    "\n",
    "for exp_name, exp in ddm_data[\"experiments\"].items():\n",
    "    diameter_calculator = make_diameter_calculator(viscosity=viscosity, temperature=temperature, pix2mum=exp[\"pix2mum\"], framerate=exp[\"framerate\"])\n",
    "\n",
    "    exp[\"exp_diameter2\"] = diameter_calculator(exp[\"exp_diffusion_coeff\"])\n",
    "\n",
    "    if \"known_diameter\" in exp:\n",
    "        exp[\"theoretical_diffusion_coeff\"] = diffusion_coefficient_calculator(exp[\"known_diameter\"])\n",
    "        exp[\"error\"] = relative_error(exp[\"known_diameter\"], exp[\"exp_diameter2\"])\n",
    "\n",
    "pprint(ddm_data)\n"
   ]
  }
 ],
 "metadata": {
  "interpreter": {
   "hash": "6a5168c01aef028afada725ea20cf04a1c34d265463c7b016845d9abfcf056ec"
  },
  "kernelspec": {
   "display_name": "Python 3.9.6 64-bit",
   "language": "python",
   "name": "python3"
  },
  "language_info": {
   "codemirror_mode": {
    "name": "ipython",
    "version": 3
   },
   "file_extension": ".py",
   "mimetype": "text/x-python",
   "name": "python",
   "nbconvert_exporter": "python",
   "pygments_lexer": "ipython3",
   "version": "3.9.6"
  },
  "orig_nbformat": 4
 },
 "nbformat": 4,
 "nbformat_minor": 2
}
