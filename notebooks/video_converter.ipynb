{
 "cells": [
  {
   "cell_type": "code",
   "execution_count": 46,
   "metadata": {},
   "outputs": [
    {
     "name": "stdout",
     "output_type": "stream",
     "text": [
      "The autoreload extension is already loaded. To reload it, use:\n",
      "  %reload_ext autoreload\n"
     ]
    }
   ],
   "source": [
    "import sys\n",
    "sys.path.append(\"../\") # go to parent dir\n",
    "\n",
    "from pathlib import Path\n",
    "import os\n",
    "from pyffmpeg import FFmpeg\n",
    "\n",
    "project_path = Path(\"..\").resolve()\n",
    "data_path = (Path(\"F:\\\\\") / \"jk782_tab63\" / \"DDM\" / \"Data\").resolve()\n",
    "\n",
    "%load_ext autoreload\n",
    "%autoreload 2\n",
    "\n"
   ]
  },
  {
   "cell_type": "code",
   "execution_count": 47,
   "metadata": {},
   "outputs": [],
   "source": [
    "framerate: int = 25"
   ]
  },
  {
   "cell_type": "code",
   "execution_count": 48,
   "metadata": {},
   "outputs": [
    {
     "name": "stdout",
     "output_type": "stream",
     "text": [
      "Skipping F:\\jk782_tab63\\DDM\\Data\\1A01_1, video.mp4 already exists\n",
      "Processing: F:\\jk782_tab63\\DDM\\Data\\1A01_2\n",
      "Processing: F:\\jk782_tab63\\DDM\\Data\\1A01_3\n"
     ]
    }
   ],
   "source": [
    "for root, subdirs, files in os.walk(data_path):\n",
    "    if subdirs:\n",
    "        for dir in subdirs:\n",
    "            d = data_path / dir\n",
    "\n",
    "            if (d / \"video.mp4\").exists():\n",
    "                print(f\"Skipping {d}, video.mp4 already exists\")\n",
    "                continue\n",
    "\n",
    "            print(f\"Processing: {d}\")\n",
    "\n",
    "            files = list(os.walk(d))[0][2]\n",
    "\n",
    "            basename = files[0].removesuffix(\"-0000.pgm\")\n",
    "\n",
    "            ff = FFmpeg()\n",
    "\n",
    "            basepath = (d / basename).resolve()\n",
    "            outpath = (d / \"video.mp4\").resolve()\n",
    "\n",
    "            ff.options(f\"-framerate {framerate} -i {str(basepath)}-%04d.pgm {str(outpath)}\")\n",
    "\n",
    "data_path"
   ]
  }
 ],
 "metadata": {
  "interpreter": {
   "hash": "3e52cfc3c2631e5df51be1fdaf608d7cde0f243eceb519bd34d5e23681680931"
  },
  "kernelspec": {
   "display_name": "Python 3.9.6 64-bit ('.venv': poetry)",
   "language": "python",
   "name": "python3"
  },
  "language_info": {
   "codemirror_mode": {
    "name": "ipython",
    "version": 3
   },
   "file_extension": ".py",
   "mimetype": "text/x-python",
   "name": "python",
   "nbconvert_exporter": "python",
   "pygments_lexer": "ipython3",
   "version": "3.9.6"
  },
  "orig_nbformat": 4
 },
 "nbformat": 4,
 "nbformat_minor": 2
}
